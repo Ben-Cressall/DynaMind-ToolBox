{
 "cells": [
  {
   "cell_type": "code",
   "execution_count": 9,
   "metadata": {},
   "outputs": [],
   "source": [
    "import sqlite3\n",
    "import pandas as pd\n",
    "\n",
    "file = \"C:/Users/ben.cressall/Documents/DynaMind-ToolBox/tests/output/scenario_basic/basic_copy.sqlite\"\n",
    "\n",
    "conn = sqlite3.connect(file)\n",
    "cur = conn.cursor()\n",
    "\n"
   ]
  },
  {
   "cell_type": "code",
   "execution_count": 11,
   "metadata": {},
   "outputs": [],
   "source": [
    "cur.execute(\"SELECT * FROM wb_soil\")\n",
    "\n",
    "\n",
    "sql_query = pd.read_sql_query(\"SELECT * FROM wb_soil\", conn)\n",
    "df = pd.DataFrame(sql_query)"
   ]
  },
  {
   "cell_type": "code",
   "execution_count": 21,
   "metadata": {},
   "outputs": [],
   "source": [
    "# create a new table for soil moisture data for the new model\n",
    "\n",
    "columns = ['horton_inital_infiltration','horton_final_infiltration','horton_decay_constant','wilting_point','field_capactiy','saturation','soil_depth','intial_soil_depth','ground_water_recharge_rate','transpiration_capacity','initial_loss']\n",
    "values = [0.09,0.001,0.06,0.09,0.22,0.4,0.03,0.01,0.25,1,0.001]\n",
    "\n",
    "df_new = df.iloc[:,0:2]\n",
    "df_new[columns] = values"
   ]
  },
  {
   "cell_type": "code",
   "execution_count": 22,
   "metadata": {},
   "outputs": [],
   "source": [
    "# add the new data to the sql database \n",
    "\n",
    "#covert pandas dataframe to sql dataframe\n",
    "df_new.to_sql('wb_soil_irrigated', conn, if_exists='replace', index=False)\n"
   ]
  },
  {
   "cell_type": "code",
   "execution_count": 23,
   "metadata": {},
   "outputs": [],
   "source": [
    "conn.close()"
   ]
  },
  {
   "cell_type": "code",
   "execution_count": 27,
   "metadata": {},
   "outputs": [],
   "source": [
    "# build a json for the dynamind workflow\n",
    "\n",
    "columns = ['horton_inital_infiltration','horton_final_infiltration','horton_decay_constant','wilting_point','field_capactiy','saturation','soil_depth','intial_soil_depth','ground_water_recharge_rate','transpiration_capacity','initial_loss']\n",
    "values = [0.09,0.001,0.06,0.09,0.22,0.4,0.03,0.01,0.25,1,0.001]\n",
    "\n",
    "workflow = []\n",
    "\n",
    "for i,name in enumerate(columns):\n",
    "\n",
    "    workflow.append({\"name\":f\"Add_Parameter_{name}\",\"class_name\":\"GDALAttributeCalculator\",\"parameters\":{\"attribute\": f\"wb_soil_irrigated.{name}\",\"attribute_type\":\"Double\",\"equation\":f\"{values[i]}\"}})\n",
    "\n"
   ]
  },
  {
   "cell_type": "code",
   "execution_count": 28,
   "metadata": {},
   "outputs": [
    {
     "data": {
      "text/plain": [
       "[{'name': 'Add_Parameter_horton_inital_infiltration',\n",
       "  'class_name': 'GDALAttributeCalculator',\n",
       "  'parameters': {'attribute': 'wb_soil_irrigated.horton_inital_infiltration',\n",
       "   'attribute_type': 'Double',\n",
       "   'equation': '0.09'}},\n",
       " {'name': 'Add_Parameter_horton_final_infiltration',\n",
       "  'class_name': 'GDALAttributeCalculator',\n",
       "  'parameters': {'attribute': 'wb_soil_irrigated.horton_final_infiltration',\n",
       "   'attribute_type': 'Double',\n",
       "   'equation': '0.001'}},\n",
       " {'name': 'Add_Parameter_horton_decay_constant',\n",
       "  'class_name': 'GDALAttributeCalculator',\n",
       "  'parameters': {'attribute': 'wb_soil_irrigated.horton_decay_constant',\n",
       "   'attribute_type': 'Double',\n",
       "   'equation': '0.06'}},\n",
       " {'name': 'Add_Parameter_wilting_point',\n",
       "  'class_name': 'GDALAttributeCalculator',\n",
       "  'parameters': {'attribute': 'wb_soil_irrigated.wilting_point',\n",
       "   'attribute_type': 'Double',\n",
       "   'equation': '0.09'}},\n",
       " {'name': 'Add_Parameter_field_capactiy',\n",
       "  'class_name': 'GDALAttributeCalculator',\n",
       "  'parameters': {'attribute': 'wb_soil_irrigated.field_capactiy',\n",
       "   'attribute_type': 'Double',\n",
       "   'equation': '0.22'}},\n",
       " {'name': 'Add_Parameter_saturation',\n",
       "  'class_name': 'GDALAttributeCalculator',\n",
       "  'parameters': {'attribute': 'wb_soil_irrigated.saturation',\n",
       "   'attribute_type': 'Double',\n",
       "   'equation': '0.4'}},\n",
       " {'name': 'Add_Parameter_soil_depth',\n",
       "  'class_name': 'GDALAttributeCalculator',\n",
       "  'parameters': {'attribute': 'wb_soil_irrigated.soil_depth',\n",
       "   'attribute_type': 'Double',\n",
       "   'equation': '0.03'}},\n",
       " {'name': 'Add_Parameter_intial_soil_depth',\n",
       "  'class_name': 'GDALAttributeCalculator',\n",
       "  'parameters': {'attribute': 'wb_soil_irrigated.intial_soil_depth',\n",
       "   'attribute_type': 'Double',\n",
       "   'equation': '0.01'}},\n",
       " {'name': 'Add_Parameter_ground_water_recharge_rate',\n",
       "  'class_name': 'GDALAttributeCalculator',\n",
       "  'parameters': {'attribute': 'wb_soil_irrigated.ground_water_recharge_rate',\n",
       "   'attribute_type': 'Double',\n",
       "   'equation': '0.25'}},\n",
       " {'name': 'Add_Parameter_transpiration_capacity',\n",
       "  'class_name': 'GDALAttributeCalculator',\n",
       "  'parameters': {'attribute': 'wb_soil_irrigated.transpiration_capacity',\n",
       "   'attribute_type': 'Double',\n",
       "   'equation': '1'}},\n",
       " {'name': 'Add_Parameter_initial_loss',\n",
       "  'class_name': 'GDALAttributeCalculator',\n",
       "  'parameters': {'attribute': 'wb_soil_irrigated.initial_loss',\n",
       "   'attribute_type': 'Double',\n",
       "   'equation': '0.001'}}]"
      ]
     },
     "execution_count": 28,
     "metadata": {},
     "output_type": "execute_result"
    }
   ],
   "source": [
    "workflow"
   ]
  },
  {
   "cell_type": "code",
   "execution_count": null,
   "metadata": {},
   "outputs": [],
   "source": []
  }
 ],
 "metadata": {
  "interpreter": {
   "hash": "a07ec7e9a5bb298200e80e75bb2b21c067edce8ce76b92acba53481685088b1e"
  },
  "kernelspec": {
   "display_name": "Python 3.10.1 ('venv': venv)",
   "language": "python",
   "name": "python3"
  },
  "language_info": {
   "codemirror_mode": {
    "name": "ipython",
    "version": 3
   },
   "file_extension": ".py",
   "mimetype": "text/x-python",
   "name": "python",
   "nbconvert_exporter": "python",
   "pygments_lexer": "ipython3",
   "version": "3.10.1"
  },
  "orig_nbformat": 4
 },
 "nbformat": 4,
 "nbformat_minor": 2
}
