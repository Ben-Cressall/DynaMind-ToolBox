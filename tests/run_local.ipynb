{
 "cells": [
  {
   "cell_type": "markdown",
   "metadata": {},
   "source": [
    "# Script to run Scenairo Tool Simulations Locally\n",
    "\n",
    "\n",
    "This script shows how to run Scenairo Tool simulations locally."
   ]
  },
  {
   "cell_type": "code",
   "execution_count": 1,
   "metadata": {},
   "outputs": [],
   "source": [
    "import os\n",
    "import json\n",
    "from dotenv import load_dotenv\n",
    "load_dotenv()\n",
    "from scenario_tool_interface import ScenarioToolInterface"
   ]
  },
  {
   "cell_type": "code",
   "execution_count": 2,
   "metadata": {},
   "outputs": [],
   "source": [
    "sti = ScenarioToolInterface()\n",
    "sti.login(os.getenv('STI_USERNAME'), os.getenv('STI_PASSWORD'))"
   ]
  },
  {
   "cell_type": "code",
   "execution_count": 14,
   "metadata": {},
   "outputs": [],
   "source": [
    "project_id = 38468"
   ]
  },
  {
   "cell_type": "code",
   "execution_count": 6,
   "metadata": {},
   "outputs": [
    {
     "name": "stdout",
     "output_type": "stream",
     "text": [
      "101093 7 Baseline\n"
     ]
    }
   ],
   "source": [
    "sti.show_scenarios(project_id)"
   ]
  },
  {
   "cell_type": "code",
   "execution_count": 7,
   "metadata": {},
   "outputs": [],
   "source": [
    "scenario_id = 101093  "
   ]
  },
  {
   "cell_type": "code",
   "execution_count": 7,
   "metadata": {},
   "outputs": [],
   "source": [
    "def get_simulation(scenario_id: int, simulation_type: str=\"PERFORMANCE_ASSESSMENT\") -> dict:\n",
    "    \"\"\"\n",
    "    Return the simulation data for a given scenario id.\n",
    "    For each scenario mutiple simulations are generated inlcuding the base and the performance assessment.\n",
    "    As a default the performance assessment is returned. To return the baseline use the simulation_type parameter and set it to \"BASELINE_ASSESSMENT\".\n",
    "    \"\"\"\n",
    "# Convert string to json\n",
    "    r = sti.get_simulations(scenario_id)\n",
    "    for s in r.json()[\"simulations\"]:\n",
    "        sim = json.loads(s)\n",
    "        if sim[\"simulation_type\"] == simulation_type:  \n",
    "            return sim\n"
   ]
  },
  {
   "cell_type": "code",
   "execution_count": 8,
   "metadata": {},
   "outputs": [],
   "source": [
    "sim = get_simulation(scenario_id)"
   ]
  },
  {
   "cell_type": "code",
   "execution_count": 9,
   "metadata": {},
   "outputs": [
    {
     "data": {
      "text/plain": [
       "{'id': 713860,\n",
       " 'created_at': 1647904429,\n",
       " 'scenario_id': 101092,\n",
       " 'scenario_revision_id': 175169,\n",
       " 'parameter_string': 'export_sftp.file_name=3425ec14-d48d-4f59-8f9d-f6f32ade8ff8;;;;simulationdb.file_name=/mnt/s3/dynamind/713859_eacc21fe-9aca-4794-bb75-25547ff3249f_1.sqlite;;scenario_id.equation=713860;',\n",
       " 'name': 'performance_assessment(175169)',\n",
       " 'creator': 3,\n",
       " 'active': True,\n",
       " 'simulation_type': 'PERFORMANCE_ASSESSMENT'}"
      ]
     },
     "execution_count": 9,
     "metadata": {},
     "output_type": "execute_result"
    }
   ],
   "source": [
    "sim"
   ]
  },
  {
   "cell_type": "code",
   "execution_count": 10,
   "metadata": {},
   "outputs": [
    {
     "name": "stdout",
     "output_type": "stream",
     "text": [
      "Land Surface Temperature\n",
      "Heat Exposure Index\n",
      "Target v3\n",
      "SWMM Model\n",
      "Water Cycle Model\n",
      "TARGET Urban Heat Island assessment\n"
     ]
    }
   ],
   "source": [
    "sti.show_assessment_models()"
   ]
  },
  {
   "cell_type": "code",
   "execution_count": 11,
   "metadata": {},
   "outputs": [
    {
     "data": {
      "text/plain": [
       "{'assessment_model_id': 10116, 'parameters': {}}"
      ]
     },
     "execution_count": 11,
     "metadata": {},
     "output_type": "execute_result"
    }
   ],
   "source": [
    "sti.get_assessment_model(\"Water Cycle Model\")"
   ]
  },
  {
   "cell_type": "code",
   "execution_count": 17,
   "metadata": {},
   "outputs": [],
   "source": [
    "r = sti.get_assessment_models()"
   ]
  },
  {
   "cell_type": "code",
   "execution_count": 21,
   "metadata": {},
   "outputs": [
    {
     "data": {
      "text/plain": [
       "<Response [500]>"
      ]
     },
     "execution_count": 21,
     "metadata": {},
     "output_type": "execute_result"
    }
   ],
   "source": [
    "sti._get(sti.api_url + \"/assessment_models/10119/versions\")"
   ]
  },
  {
   "cell_type": "code",
   "execution_count": 8,
   "metadata": {},
   "outputs": [],
   "source": [
    "sti.get_project_databases(project_id, \"output/\", scenario_id)"
   ]
  },
  {
   "cell_type": "code",
   "execution_count": 16,
   "metadata": {},
   "outputs": [],
   "source": [
    "sti.get_project_databases(project_id, \"C:/temp\")"
   ]
  },
  {
   "cell_type": "code",
   "execution_count": null,
   "metadata": {},
   "outputs": [],
   "source": [
    "import uuid"
   ]
  },
  {
   "cell_type": "code",
   "execution_count": null,
   "metadata": {},
   "outputs": [],
   "source": [
    "str(uuid.uuid4())"
   ]
  },
  {
   "cell_type": "code",
   "execution_count": 11,
   "metadata": {},
   "outputs": [],
   "source": [
    "# unpack zip file\n",
    "import zipfile\n",
    "\n",
    "zipfile.ZipFile(f\"output/{project_id}-{scenario_id}.zip\").extractall(\"output\")"
   ]
  },
  {
   "cell_type": "code",
   "execution_count": 12,
   "metadata": {},
   "outputs": [],
   "source": [
    "from scenario_tool_interface import Json2DynaMindXML\n",
    "\n",
    "#Json2DynaMindXML().dump(\"resources/zone_9_xml/zone_9.json\", \"resources/zone_9_xml/zone_9.xml\")\n",
    "Json2DynaMindXML().dump(\"resources/new_workflows/import_et.json\", \"resources/new_workflows/import_et.xml\")\n",
    "#Json2DynaMindXML().dump(\"resources/basic.json\", \"resources/basic.xml\")"
   ]
  },
  {
   "cell_type": "code",
   "execution_count": null,
   "metadata": {},
   "outputs": [],
   "source": [
    "# read csv file into a dataframe\n",
    "\n",
    "\n",
    "\n"
   ]
  },
  {
   "cell_type": "code",
   "execution_count": 21,
   "metadata": {},
   "outputs": [
    {
     "data": {
      "text/plain": [
       "0.001805040322564607"
      ]
     },
     "execution_count": 21,
     "metadata": {},
     "output_type": "execute_result"
    }
   ],
   "source": [
    "x = 7.0 * 0.0007735887096705458/3.0\n",
    "x"
   ]
  }
 ],
 "metadata": {
  "interpreter": {
   "hash": "31f2aee4e71d21fbe5cf8b01ff0e069b9275f58929596ceb00d14d90e3e16cd6"
  },
  "kernelspec": {
   "display_name": "Python 3.6.9 64-bit",
   "language": "python",
   "name": "python3"
  },
  "language_info": {
   "codemirror_mode": {
    "name": "ipython",
    "version": 3
   },
   "file_extension": ".py",
   "mimetype": "text/x-python",
   "name": "python",
   "nbconvert_exporter": "python",
   "pygments_lexer": "ipython3",
   "version": "3.10.1"
  },
  "orig_nbformat": 4
 },
 "nbformat": 4,
 "nbformat_minor": 2
}
